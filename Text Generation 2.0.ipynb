{
 "cells": [
  {
   "cell_type": "markdown",
   "id": "f4e4a8b2",
   "metadata": {},
   "source": [
    "## Importing Libraries and Data"
   ]
  },
  {
   "cell_type": "code",
   "execution_count": 1,
   "id": "40ed5cea",
   "metadata": {},
   "outputs": [],
   "source": [
    "import numpy as np\n",
    "import pandas as pd\n",
    "import os\n",
    "import tensorflow as tf\n",
    "import string"
   ]
  },
  {
   "cell_type": "code",
   "execution_count": 2,
   "id": "6269c9b5",
   "metadata": {},
   "outputs": [],
   "source": [
    "data_path = r\"F:\\Machine Learning and AI\\Deep Learning with Tensorflow IBM\\Projects\\Text Auto Generation\\t8.shakespeare.txt\""
   ]
  },
  {
   "cell_type": "code",
   "execution_count": 3,
   "id": "d7bb0ac4",
   "metadata": {},
   "outputs": [],
   "source": [
    "text_data = open(data_path, 'rb').read().decode(encoding = 'utf-8')"
   ]
  },
  {
   "cell_type": "markdown",
   "id": "82159cb8",
   "metadata": {},
   "source": [
    "## Data Preprocessing"
   ]
  },
  {
   "cell_type": "code",
   "execution_count": 4,
   "id": "d71c58ea",
   "metadata": {},
   "outputs": [
    {
     "name": "stdout",
     "output_type": "stream",
     "text": [
      "\n",
      "\n"
     ]
    }
   ],
   "source": [
    "print(text_data[10460])"
   ]
  },
  {
   "cell_type": "code",
   "execution_count": 5,
   "id": "f25359d5",
   "metadata": {},
   "outputs": [],
   "source": [
    "text_data = text_data[10460:]"
   ]
  },
  {
   "cell_type": "markdown",
   "id": "0cbfe519",
   "metadata": {},
   "source": [
    "### Unique Character Count and Mapping them to integers"
   ]
  },
  {
   "cell_type": "code",
   "execution_count": 6,
   "id": "9781ced3",
   "metadata": {},
   "outputs": [],
   "source": [
    "char = sorted(set(text_data))"
   ]
  },
  {
   "cell_type": "code",
   "execution_count": 10,
   "id": "44eac5de-1728-45a3-8223-6321d7f00397",
   "metadata": {},
   "outputs": [
    {
     "data": {
      "text/plain": [
       "'('"
      ]
     },
     "execution_count": 10,
     "metadata": {},
     "output_type": "execute_result"
    }
   ],
   "source": [
    "char[6]"
   ]
  },
  {
   "cell_type": "code",
   "execution_count": 7,
   "id": "4ea8a497",
   "metadata": {},
   "outputs": [
    {
     "data": {
      "text/plain": [
       "84"
      ]
     },
     "execution_count": 7,
     "metadata": {},
     "output_type": "execute_result"
    }
   ],
   "source": [
    "len(char)"
   ]
  },
  {
   "cell_type": "code",
   "execution_count": 8,
   "id": "0ff3f2c4",
   "metadata": {},
   "outputs": [],
   "source": [
    "char_index = {f: i for i, f in enumerate(char)}\n",
    "index_char = np.array(char)"
   ]
  },
  {
   "cell_type": "code",
   "execution_count": 9,
   "id": "cd4651fc",
   "metadata": {},
   "outputs": [],
   "source": [
    "text_to_int = np.array([char_index[c] for c in text_data])"
   ]
  },
  {
   "cell_type": "markdown",
   "id": "bbbc99fe",
   "metadata": {},
   "source": [
    "### Text Preprocessing"
   ]
  },
  {
   "cell_type": "code",
   "execution_count": 10,
   "id": "04cdc786",
   "metadata": {},
   "outputs": [],
   "source": [
    "seq_len = 50\n",
    "char_per_epoch = len(text_data)//(seq_len + 1)"
   ]
  },
  {
   "cell_type": "code",
   "execution_count": 11,
   "id": "a29e7eaa",
   "metadata": {},
   "outputs": [],
   "source": [
    "char_data = tf.data.Dataset.from_tensor_slices(text_to_int)"
   ]
  },
  {
   "cell_type": "code",
   "execution_count": 12,
   "id": "187b7f68",
   "metadata": {},
   "outputs": [],
   "source": [
    "data_seq = char_data.batch(seq_len + 1, drop_remainder = True)"
   ]
  },
  {
   "cell_type": "code",
   "execution_count": 13,
   "id": "cbf2640c",
   "metadata": {},
   "outputs": [],
   "source": [
    "def x_y_split(portion):\n",
    "    x = portion[: -1]\n",
    "    y = portion[1 :]\n",
    "    return x, y\n",
    "data_final = data_seq.map(x_y_split)"
   ]
  },
  {
   "cell_type": "code",
   "execution_count": 14,
   "id": "c816557e",
   "metadata": {},
   "outputs": [],
   "source": [
    "batch_size = 64\n",
    "buffer = 10000"
   ]
  },
  {
   "cell_type": "code",
   "execution_count": 15,
   "id": "29ae9a89",
   "metadata": {},
   "outputs": [],
   "source": [
    "data_final = data_final.shuffle(buffer).batch(batch_size, drop_remainder = True)"
   ]
  },
  {
   "cell_type": "markdown",
   "id": "5c803667",
   "metadata": {},
   "source": [
    "## Model Building"
   ]
  },
  {
   "cell_type": "code",
   "execution_count": 24,
   "id": "fe787628",
   "metadata": {},
   "outputs": [],
   "source": [
    "model_rnn = tf.keras.Sequential([\n",
    "    tf.keras.layers.Embedding(len(char), 16, batch_input_shape = [batch_size, None]),\n",
    "    tf.keras.layers.GRU(32, return_sequences = True, stateful = True, recurrent_initializer = 'glorot_uniform'),\n",
    "    tf.keras.layers.GRU(64, return_sequences = True, stateful = True, recurrent_initializer = 'glorot_uniform'),\n",
    "    tf.keras.layers.Dense(len(char))\n",
    "])"
   ]
  },
  {
   "cell_type": "code",
   "execution_count": 25,
   "id": "9405a47d",
   "metadata": {},
   "outputs": [
    {
     "name": "stdout",
     "output_type": "stream",
     "text": [
      "Model: \"sequential_2\"\n",
      "_________________________________________________________________\n",
      "Layer (type)                 Output Shape              Param #   \n",
      "=================================================================\n",
      "embedding_2 (Embedding)      (64, None, 16)            1344      \n",
      "_________________________________________________________________\n",
      "gru_4 (GRU)                  (64, None, 32)            4800      \n",
      "_________________________________________________________________\n",
      "gru_5 (GRU)                  (64, None, 64)            18816     \n",
      "_________________________________________________________________\n",
      "dense_2 (Dense)              (64, None, 84)            5460      \n",
      "=================================================================\n",
      "Total params: 30,420\n",
      "Trainable params: 30,420\n",
      "Non-trainable params: 0\n",
      "_________________________________________________________________\n"
     ]
    }
   ],
   "source": [
    "model_rnn.summary()"
   ]
  },
  {
   "cell_type": "code",
   "execution_count": 26,
   "id": "029b7c24",
   "metadata": {},
   "outputs": [],
   "source": [
    "model_rnn.compile(loss = 'sparse_categorical_crossentropy', optimizer = 'adam', metrics = ['accuracy'])"
   ]
  },
  {
   "cell_type": "code",
   "execution_count": 29,
   "id": "79d29c9c",
   "metadata": {},
   "outputs": [
    {
     "name": "stdout",
     "output_type": "stream",
     "text": [
      "Epoch 1/50\n",
      "1669/1669 [==============================] - 110s 66ms/step - loss: 2.9707 - accuracy: 0.2443\n",
      "Epoch 2/50\n",
      "1669/1669 [==============================] - 102s 60ms/step - loss: 2.7798 - accuracy: 0.2804\n",
      "Epoch 3/50\n",
      "1669/1669 [==============================] - 100s 60ms/step - loss: 2.6892 - accuracy: 0.2608\n",
      "Epoch 4/50\n",
      "1669/1669 [==============================] - 99s 59ms/step - loss: 2.6445 - accuracy: 0.2893\n",
      "Epoch 5/50\n",
      "1669/1669 [==============================] - 99s 59ms/step - loss: 2.6855 - accuracy: 0.25720s - loss: 2\n",
      "Epoch 6/50\n",
      "1669/1669 [==============================] - 101s 60ms/step - loss: 2.5590 - accuracy: 0.3220\n",
      "Epoch 7/50\n",
      "1669/1669 [==============================] - 99s 59ms/step - loss: 2.6585 - accuracy: 0.3099\n",
      "Epoch 8/50\n",
      "1669/1669 [==============================] - 101s 60ms/step - loss: 2.6351 - accuracy: 0.3220s - loss: 2\n",
      "Epoch 9/50\n",
      "1669/1669 [==============================] - 113s 67ms/step - loss: 2.5734 - accuracy: 0.3292\n",
      "Epoch 10/50\n",
      "1669/1669 [==============================] - 114s 68ms/step - loss: 2.5184 - accuracy: 0.3314\n",
      "Epoch 11/50\n",
      "1669/1669 [==============================] - 104s 62ms/step - loss: 2.5229 - accuracy: 0.3204s - loss: 2.5228 - accuracy: \n",
      "Epoch 12/50\n",
      "1669/1669 [==============================] - 99s 59ms/step - loss: 2.5491 - accuracy: 0.33511s - loss: - ETA: 0s - los\n",
      "Epoch 13/50\n",
      "1669/1669 [==============================] - 99s 59ms/step - loss: 2.5900 - accuracy: 0.3144\n",
      "Epoch 14/50\n",
      "1669/1669 [==============================] - 100s 59ms/step - loss: 2.5057 - accuracy: 0.3324A: 3s - - ETA: \n",
      "Epoch 15/50\n",
      "1669/1669 [==============================] - 100s 59ms/step - loss: 2.5568 - accuracy: 0.3162\n",
      "Epoch 16/50\n",
      "1669/1669 [==============================] - 99s 59ms/step - loss: 2.6004 - accuracy: 0.3210\n",
      "Epoch 17/50\n",
      "1669/1669 [==============================] - 97s 58ms/step - loss: 2.5886 - accuracy: 0.3178\n",
      "Epoch 18/50\n",
      "1669/1669 [==============================] - 97s 58ms/step - loss: 2.4921 - accuracy: 0.3342\n",
      "Epoch 19/50\n",
      "1669/1669 [==============================] - 97s 58ms/step - loss: 2.6388 - accuracy: 0.3085\n",
      "Epoch 20/50\n",
      "1669/1669 [==============================] - 109s 64ms/step - loss: 2.6022 - accuracy: 0.3089\n",
      "Epoch 21/50\n",
      "1669/1669 [==============================] - 99s 59ms/step - loss: 2.6161 - accuracy: 0.3120\n",
      "Epoch 22/50\n",
      "1669/1669 [==============================] - 96s 57ms/step - loss: 2.5778 - accuracy: 0.3140\n",
      "Epoch 23/50\n",
      "1669/1669 [==============================] - 97s 58ms/step - loss: 2.5507 - accuracy: 0.3117\n",
      "Epoch 24/50\n",
      "1669/1669 [==============================] - 97s 58ms/step - loss: 2.5507 - accuracy: 0.3166\n",
      "Epoch 25/50\n",
      "1669/1669 [==============================] - 96s 57ms/step - loss: 2.5656 - accuracy: 0.3074\n",
      "Epoch 26/50\n",
      "1669/1669 [==============================] - 98s 58ms/step - loss: 2.5362 - accuracy: 0.30534s - loss: - E\n",
      "Epoch 27/50\n",
      "1669/1669 [==============================] - 97s 58ms/step - loss: 2.5510 - accuracy: 0.3163\n",
      "Epoch 28/50\n",
      "1669/1669 [==============================] - 96s 57ms/step - loss: 2.5576 - accuracy: 0.3137\n",
      "Epoch 29/50\n",
      "1669/1669 [==============================] - 97s 58ms/step - loss: 2.5645 - accuracy: 0.3166\n",
      "Epoch 30/50\n",
      "1669/1669 [==============================] - 100s 60ms/step - loss: 2.5767 - accuracy: 0.2954\n",
      "Epoch 31/50\n",
      "1669/1669 [==============================] - 98s 58ms/step - loss: 2.5699 - accuracy: 0.2832\n",
      "Epoch 32/50\n",
      "1669/1669 [==============================] - 99s 59ms/step - loss: 2.5917 - accuracy: 0.3092\n",
      "Epoch 33/50\n",
      "1669/1669 [==============================] - 97s 58ms/step - loss: 2.5431 - accuracy: 0.30440s - loss: 2.5435 - ac\n",
      "Epoch 34/50\n",
      "1669/1669 [==============================] - 97s 58ms/step - loss: 2.4562 - accuracy: 0.3258\n",
      "Epoch 35/50\n",
      "1669/1669 [==============================] - 95s 57ms/step - loss: 2.4665 - accuracy: 0.3361\n",
      "Epoch 36/50\n",
      "1669/1669 [==============================] - 97s 57ms/step - loss: 2.4840 - accuracy: 0.3153\n",
      "Epoch 37/50\n",
      "1669/1669 [==============================] - 96s 57ms/step - loss: 2.4381 - accuracy: 0.34180s - loss: 2.4380 \n",
      "Epoch 38/50\n",
      "1669/1669 [==============================] - 96s 57ms/step - loss: 2.4204 - accuracy: 0.3385\n",
      "Epoch 39/50\n",
      "1669/1669 [==============================] - 107s 63ms/step - loss: 2.4348 - accuracy: 0.3439\n",
      "Epoch 40/50\n",
      "1669/1669 [==============================] - 106s 63ms/step - loss: 2.3992 - accuracy: 0.3448\n",
      "Epoch 41/50\n",
      "1669/1669 [==============================] - 102s 61ms/step - loss: 2.4554 - accuracy: 0.3286\n",
      "Epoch 42/50\n",
      "1669/1669 [==============================] - 99s 59ms/step - loss: 2.4608 - accuracy: 0.3199\n",
      "Epoch 43/50\n",
      "1669/1669 [==============================] - 108s 64ms/step - loss: 2.5732 - accuracy: 0.2853s - loss: 2.573\n",
      "Epoch 44/50\n",
      "1669/1669 [==============================] - 104s 62ms/step - loss: 2.5357 - accuracy: 0.3088\n",
      "Epoch 45/50\n",
      "1669/1669 [==============================] - 102s 61ms/step - loss: 2.4695 - accuracy: 0.3255\n",
      "Epoch 46/50\n",
      "1669/1669 [==============================] - 100s 60ms/step - loss: 2.4705 - accuracy: 0.3158s - loss: 2.4\n",
      "Epoch 47/50\n",
      "1669/1669 [==============================] - 101s 60ms/step - loss: 2.4540 - accuracy: 0.3131\n",
      "Epoch 48/50\n",
      "1669/1669 [==============================] - 101s 60ms/step - loss: 2.4135 - accuracy: 0.3278\n",
      "Epoch 49/50\n",
      "1669/1669 [==============================] - 102s 61ms/step - loss: 2.3775 - accuracy: 0.3394\n",
      "Epoch 50/50\n",
      "1669/1669 [==============================] - 100s 60ms/step - loss: 2.4107 - accuracy: 0.3323\n"
     ]
    }
   ],
   "source": [
    "rnn_fit = model_rnn.fit(data_final, epochs = 50)"
   ]
  },
  {
   "cell_type": "code",
   "execution_count": 30,
   "id": "7be78a8f-e671-47e7-8f7b-fab0618b80b8",
   "metadata": {},
   "outputs": [],
   "source": [
    "model_rnn.save('text_rnn.h5')"
   ]
  },
  {
   "cell_type": "code",
   "execution_count": null,
   "id": "3350bf99-b030-4896-84a1-306f68a69468",
   "metadata": {},
   "outputs": [],
   "source": []
  }
 ],
 "metadata": {
  "kernelspec": {
   "display_name": "Python 3 (ipykernel)",
   "language": "python",
   "name": "python3"
  },
  "language_info": {
   "codemirror_mode": {
    "name": "ipython",
    "version": 3
   },
   "file_extension": ".py",
   "mimetype": "text/x-python",
   "name": "python",
   "nbconvert_exporter": "python",
   "pygments_lexer": "ipython3",
   "version": "3.9.7"
  }
 },
 "nbformat": 4,
 "nbformat_minor": 5
}

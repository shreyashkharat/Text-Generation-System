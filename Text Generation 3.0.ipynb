{
 "cells": [
  {
   "cell_type": "markdown",
   "id": "f6a6bda5-19eb-4678-847f-f2ff3075ffa7",
   "metadata": {},
   "source": [
    "## Importing Libraries and Data Set"
   ]
  },
  {
   "cell_type": "code",
   "execution_count": 1,
   "id": "b5ec7b89-73a5-480c-aa81-be12e183d9b1",
   "metadata": {},
   "outputs": [],
   "source": [
    "import numpy as np\n",
    "import pandas as pd\n",
    "import tensorflow as tf\n",
    "from tensorflow.keras.layers import Embedding, GRU, Dropout, Dense\n",
    "from tensorflow.keras.models import Sequential\n",
    "from tensorflow.keras.preprocessing.text import Tokenizer\n",
    "from tensorflow.keras.utils import to_categorical\n",
    "import string\n",
    "import requests\n",
    "from sklearn.metrics import accuracy_score"
   ]
  },
  {
   "cell_type": "code",
   "execution_count": 2,
   "id": "079ec5ed-4850-4654-b03c-124d52a318d8",
   "metadata": {},
   "outputs": [],
   "source": [
    "data_link = requests.get('https://ocw.mit.edu/ans7870/6/6.006/s08/lecturenotes/files/t8.shakespeare.txt')"
   ]
  },
  {
   "cell_type": "markdown",
   "id": "a3e33fd4-6711-434f-b49c-b45e72dc0fc8",
   "metadata": {},
   "source": [
    "## Data Preprocessing"
   ]
  },
  {
   "cell_type": "code",
   "execution_count": 3,
   "id": "588cc444-8284-49dd-bed1-8abcfddf3122",
   "metadata": {},
   "outputs": [],
   "source": [
    "data = data_link.text.split('\\n')"
   ]
  },
  {
   "cell_type": "code",
   "execution_count": 4,
   "id": "dbf516eb-c95b-49f3-9c1a-c50be3d0a657",
   "metadata": {},
   "outputs": [],
   "source": [
    "data = data[253:]"
   ]
  },
  {
   "cell_type": "code",
   "execution_count": 5,
   "id": "dab4c553-741f-4d00-8430-1b9c288b9e21",
   "metadata": {},
   "outputs": [],
   "source": [
    "data = ' '.join(data)"
   ]
  },
  {
   "cell_type": "code",
   "execution_count": 6,
   "id": "289a9793-c172-4986-920c-d474b09ba8fd",
   "metadata": {},
   "outputs": [],
   "source": [
    "def text(doc):\n",
    "    tokens = doc.split()\n",
    "    table = str.maketrans('', '', string.punctuation)\n",
    "    tokens = [w.translate(table) for w in tokens]\n",
    "    tokens = [word for word in tokens if word.isalpha()]\n",
    "    tokens = [word.lower() for word in tokens]\n",
    "    return tokens"
   ]
  },
  {
   "cell_type": "code",
   "execution_count": 7,
   "id": "c7dac4bf-ae5f-4df4-b8b2-1782b47a1e94",
   "metadata": {},
   "outputs": [],
   "source": [
    "tokens = text(data)"
   ]
  },
  {
   "cell_type": "code",
   "execution_count": 8,
   "id": "9edc28bc-8153-4b9c-b2ea-c8e16a8b98e0",
   "metadata": {},
   "outputs": [
    {
     "data": {
      "text/plain": [
       "27956"
      ]
     },
     "execution_count": 8,
     "metadata": {},
     "output_type": "execute_result"
    }
   ],
   "source": [
    "len(set(tokens))"
   ]
  },
  {
   "cell_type": "code",
   "execution_count": 9,
   "id": "dee619ca-d6fc-40e9-ac02-4808a182ddd9",
   "metadata": {},
   "outputs": [],
   "source": [
    "length = 10 + 1"
   ]
  },
  {
   "cell_type": "code",
   "execution_count": 10,
   "id": "7a74b8fb-d437-48e7-b6e5-cec3071209c3",
   "metadata": {},
   "outputs": [],
   "source": [
    "lines = []"
   ]
  },
  {
   "cell_type": "code",
   "execution_count": 11,
   "id": "dbde5a1a-87c4-40ec-869b-e5580bc0be4c",
   "metadata": {},
   "outputs": [],
   "source": [
    "for i in range(length, len(tokens)):\n",
    "    seq = tokens[i - length:i]\n",
    "    line = ' '.join(seq)\n",
    "    lines.append(line)\n",
    "    if i > 250000:\n",
    "        break"
   ]
  },
  {
   "cell_type": "code",
   "execution_count": 12,
   "id": "9c3083f5-ab92-4337-b8ca-1da215d19f65",
   "metadata": {},
   "outputs": [],
   "source": [
    "tokenizer = Tokenizer()\n",
    "tokenizer.fit_on_texts(lines)\n",
    "word_seq = tokenizer.texts_to_sequences(lines)"
   ]
  },
  {
   "cell_type": "code",
   "execution_count": 13,
   "id": "c6ad510c-fcbd-4f05-bb83-e03f196a2532",
   "metadata": {},
   "outputs": [
    {
     "data": {
      "text/plain": [
       "249991"
      ]
     },
     "execution_count": 13,
     "metadata": {},
     "output_type": "execute_result"
    }
   ],
   "source": [
    "len(lines)"
   ]
  },
  {
   "cell_type": "code",
   "execution_count": 14,
   "id": "77d19072-d77e-4366-aa9d-934fd735c3bd",
   "metadata": {},
   "outputs": [
    {
     "data": {
      "text/plain": [
       "'from fairest creatures we desire increase that thereby beautys rose might'"
      ]
     },
     "execution_count": 14,
     "metadata": {},
     "output_type": "execute_result"
    }
   ],
   "source": [
    "lines[0]"
   ]
  },
  {
   "cell_type": "code",
   "execution_count": 15,
   "id": "59ec31cc-5a15-42c6-ac42-20938b2bfd15",
   "metadata": {},
   "outputs": [
    {
     "data": {
      "text/plain": [
       "'from'"
      ]
     },
     "execution_count": 15,
     "metadata": {},
     "output_type": "execute_result"
    }
   ],
   "source": [
    "tokens[0]"
   ]
  },
  {
   "cell_type": "code",
   "execution_count": 16,
   "id": "62e50673-2a18-47bb-a06b-91baa32752bf",
   "metadata": {},
   "outputs": [
    {
     "data": {
      "text/plain": [
       "898199"
      ]
     },
     "execution_count": 16,
     "metadata": {},
     "output_type": "execute_result"
    }
   ],
   "source": [
    "len(tokens)"
   ]
  },
  {
   "cell_type": "code",
   "execution_count": 17,
   "id": "90b9ff7d-dc20-42d7-9cc2-e9aa6cba59c5",
   "metadata": {},
   "outputs": [],
   "source": [
    "train_tokens = tokens[: 400000]"
   ]
  },
  {
   "cell_type": "code",
   "execution_count": 18,
   "id": "6887fcd0-810b-4db5-ac5d-edd6a704b8ab",
   "metadata": {},
   "outputs": [],
   "source": [
    "test_tokens = tokens[400000 : 800000]"
   ]
  },
  {
   "cell_type": "code",
   "execution_count": 19,
   "id": "84105283-cb97-4fb0-b343-c42fb5bbed53",
   "metadata": {},
   "outputs": [],
   "source": [
    "words_train = sorted(set(train_tokens))\n",
    "words_test = sorted(set(test_tokens))"
   ]
  },
  {
   "cell_type": "code",
   "execution_count": 20,
   "id": "a9fa6c34-490f-46ff-b36d-928c008a5511",
   "metadata": {},
   "outputs": [
    {
     "data": {
      "text/plain": [
       "(19050, 18519)"
      ]
     },
     "execution_count": 20,
     "metadata": {},
     "output_type": "execute_result"
    }
   ],
   "source": [
    "len(words_train), len(words_test)"
   ]
  },
  {
   "cell_type": "code",
   "execution_count": 21,
   "id": "3888de7d-16ba-4db4-8648-f3f0320e3d3e",
   "metadata": {},
   "outputs": [],
   "source": [
    "word_train_index = {f: i for i, f in enumerate(words_train)}\n",
    "index_words_train = np.array(words_train)\n",
    "word_test_index = {f: i for i, f in enumerate(words_test)}\n",
    "index_words_test = np.array(words_test)"
   ]
  },
  {
   "cell_type": "code",
   "execution_count": 22,
   "id": "b1abf44d-ad84-4473-86bb-f7eaf064d5af",
   "metadata": {},
   "outputs": [],
   "source": [
    "train_text_to_int = np.array([word_train_index[c] for c in train_tokens])\n",
    "test_text_to_int = np.array([word_test_index[c] for c in test_tokens])"
   ]
  },
  {
   "cell_type": "code",
   "execution_count": 23,
   "id": "39d7496e-3789-4118-a373-6686d3b10735",
   "metadata": {},
   "outputs": [],
   "source": [
    "seq_len = 10"
   ]
  },
  {
   "cell_type": "code",
   "execution_count": 24,
   "id": "5446df75-c28a-473f-8bce-70d18131f3a5",
   "metadata": {},
   "outputs": [],
   "source": [
    "train_word_data = tf.data.Dataset.from_tensor_slices(train_text_to_int)\n",
    "test_word_data = tf.data.Dataset.from_tensor_slices(test_text_to_int)"
   ]
  },
  {
   "cell_type": "code",
   "execution_count": 25,
   "id": "d1a64fff-c478-4b0f-8339-8f3d8a7dadcb",
   "metadata": {},
   "outputs": [],
   "source": [
    "train_data_seq = train_word_data.batch(seq_len + 1, drop_remainder = True)\n",
    "test_data_seq = test_word_data.batch(seq_len + 1, drop_remainder = True)"
   ]
  },
  {
   "cell_type": "code",
   "execution_count": 26,
   "id": "c7c90ae7-7ee4-4692-ad0a-5070348d6b9b",
   "metadata": {},
   "outputs": [],
   "source": [
    "def x_y_split(portion):\n",
    "    x = portion[: -1]\n",
    "    y = portion[1 :]\n",
    "    return x, y"
   ]
  },
  {
   "cell_type": "code",
   "execution_count": 27,
   "id": "0475417b-3d33-48b6-b621-13cd3ba9e4f8",
   "metadata": {},
   "outputs": [],
   "source": [
    "train_df = train_data_seq.map(x_y_split)\n",
    "test_df = test_data_seq.map(x_y_split)"
   ]
  },
  {
   "cell_type": "code",
   "execution_count": 28,
   "id": "db9163cc-d85c-465c-a59c-d776b4e412bf",
   "metadata": {},
   "outputs": [],
   "source": [
    "batch_size = 64\n",
    "buffer = 10000"
   ]
  },
  {
   "cell_type": "code",
   "execution_count": 29,
   "id": "f4092a0f-fef6-4623-b84b-9c18fa19282d",
   "metadata": {},
   "outputs": [],
   "source": [
    "train_df = train_df.shuffle(buffer).batch(batch_size, drop_remainder = True)\n",
    "test_df = test_df.shuffle(buffer).batch(batch_size, drop_remainder = True)"
   ]
  },
  {
   "cell_type": "markdown",
   "id": "b262a2c5-77fd-4231-9706-3589aff90bc4",
   "metadata": {},
   "source": [
    "## Model Architecture"
   ]
  },
  {
   "cell_type": "code",
   "execution_count": 30,
   "id": "7ed59d86-72a8-4002-8d0a-3f38bac5c9d0",
   "metadata": {},
   "outputs": [],
   "source": [
    "model_rnn = Sequential([\n",
    "    Embedding(len(words_train), 256, batch_input_shape = [batch_size, None]),\n",
    "    #GRU(512, return_sequences = True, stateful = True, recurrent_initializer = 'glorot_uniform'),\n",
    "    #Dropout(0.25),\n",
    "    GRU(1024, return_sequences = True, stateful = True, recurrent_initializer = 'glorot_uniform'),\n",
    "    Dropout(0.25),\n",
    "    #GRU(2048, return_sequences = True, stateful = True, recurrent_initializer = 'glorot_uniform'),\n",
    "    #Dropout(0.25),\n",
    "    GRU(4096, return_sequences = True, stateful = True, recurrent_initializer = 'glorot_uniform'),\n",
    "    Dropout(0.25),\n",
    "    #GRU(8192, return_sequences = True, stateful = True, recurrent_initializer = 'glorot_uniform'),\n",
    "    #Dropout(0.25),\n",
    "    GRU(16382, return_sequences = True, stateful = True, recurrent_initializer = 'glorot_uniform'),\n",
    "    Dropout(0.25),\n",
    "    Dense(len(words_train))\n",
    "])"
   ]
  },
  {
   "cell_type": "code",
   "execution_count": 31,
   "id": "aae91440-c318-4586-b136-919b5681921c",
   "metadata": {},
   "outputs": [
    {
     "name": "stdout",
     "output_type": "stream",
     "text": [
      "Model: \"sequential\"\n",
      "_________________________________________________________________\n",
      "Layer (type)                 Output Shape              Param #   \n",
      "=================================================================\n",
      "embedding (Embedding)        (64, None, 256)           4876800   \n",
      "_________________________________________________________________\n",
      "gru (GRU)                    (64, None, 1024)          3938304   \n",
      "_________________________________________________________________\n",
      "dropout (Dropout)            (64, None, 1024)          0         \n",
      "_________________________________________________________________\n",
      "gru_1 (GRU)                  (64, None, 4096)          62939136  \n",
      "_________________________________________________________________\n",
      "dropout_1 (Dropout)          (64, None, 4096)          0         \n",
      "_________________________________________________________________\n",
      "gru_2 (GRU)                  (64, None, 16382)         1006510080\n",
      "_________________________________________________________________\n",
      "dropout_2 (Dropout)          (64, None, 16382)         0         \n",
      "_________________________________________________________________\n",
      "dense (Dense)                (64, None, 19050)         312096150 \n",
      "=================================================================\n",
      "Total params: 1,390,360,470\n",
      "Trainable params: 1,390,360,470\n",
      "Non-trainable params: 0\n",
      "_________________________________________________________________\n"
     ]
    }
   ],
   "source": [
    "model_rnn.summary()"
   ]
  },
  {
   "cell_type": "code",
   "execution_count": 32,
   "id": "c3e0376d-ebc3-481a-94a9-f3d95d2c0a93",
   "metadata": {},
   "outputs": [],
   "source": [
    "model_rnn.compile(loss = 'sparse_categorical_crossentropy', optimizer = 'adam', metrics = ['accuracy'])"
   ]
  },
  {
   "cell_type": "code",
   "execution_count": null,
   "id": "45d5042f-aeec-41ff-a008-9371053a3a6c",
   "metadata": {},
   "outputs": [
    {
     "name": "stdout",
     "output_type": "stream",
     "text": [
      "Epoch 1/50\n"
     ]
    }
   ],
   "source": [
    "rnn_fit = model_rnn.fit(train_df, epochs = 50)"
   ]
  },
  {
   "cell_type": "code",
   "execution_count": null,
   "id": "7bae90fe-d7e5-4455-a92f-3468d94a88a0",
   "metadata": {},
   "outputs": [],
   "source": [
    "model_rnn.save('text_rnn_2.0_.h5')"
   ]
  }
 ],
 "metadata": {
  "kernelspec": {
   "display_name": "Python 3 (ipykernel)",
   "language": "python",
   "name": "python3"
  },
  "language_info": {
   "codemirror_mode": {
    "name": "ipython",
    "version": 3
   },
   "file_extension": ".py",
   "mimetype": "text/x-python",
   "name": "python",
   "nbconvert_exporter": "python",
   "pygments_lexer": "ipython3",
   "version": "3.9.7"
  }
 },
 "nbformat": 4,
 "nbformat_minor": 5
}
